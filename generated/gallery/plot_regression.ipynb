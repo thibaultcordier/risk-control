{
  "cells": [
    {
      "cell_type": "code",
      "execution_count": null,
      "metadata": {
        "collapsed": false
      },
      "outputs": [],
      "source": [
        "%matplotlib inline"
      ]
    },
    {
      "cell_type": "markdown",
      "metadata": {},
      "source": [
        "\n# Selective Regression\n\nThis example shows how to use the `SelectiveRegression` and `MapieRiskControl` classes to perform selective regression.\n"
      ]
    },
    {
      "cell_type": "code",
      "execution_count": null,
      "metadata": {
        "collapsed": false
      },
      "outputs": [],
      "source": [
        "import os\nimport sys\n\nfrom risk_control.decision.base import BaseDecision\nfrom risk_control.parameter import BaseParameterSpace\n\nbasedir = os.path.abspath(os.path.join(os.path.curdir, \"..\"))\nsys.path.append(basedir)\nbasedir = os.path.abspath(os.path.join(os.path.curdir, \".\"))\nsys.path.append(basedir)\n\nimport numpy as np\nfrom risk_control import MapieRiskControl\nfrom risk_control.decision import SelectiveRegression\nfrom risk_control.plot import plot_p_values, plot_risk_curve\nfrom risk_control.risk import BaseRisk, MSERisk, RatioPredictionRisk\nfrom utils.data import get_data_regression\nfrom utils.model import get_model_regression\n\nrandom_state = 42\nnp.random.seed(42)"
      ]
    },
    {
      "cell_type": "markdown",
      "metadata": {},
      "source": [
        "First, we load the data and train a model.\n\n"
      ]
    },
    {
      "cell_type": "code",
      "execution_count": null,
      "metadata": {
        "collapsed": false
      },
      "outputs": [],
      "source": [
        "mse_max = 20.0\n\nX_train, X_cal, X_test, y_train, y_cal, y_test = get_data_regression(random_state)\nclf, res = get_model_regression(X_train, y_train, X_cal, y_cal)\n\nprint(f\"Mean MSE: {np.nanmean((clf.predict(X_test) - y_test)**2):.2f}\")"
      ]
    },
    {
      "cell_type": "markdown",
      "metadata": {},
      "source": [
        "Here, we define the decision, the risks, and the parameter space.\n\nWe use the `SelectiveRegression` decision, the `MSERisk` and `RatioPredictionRisk` risks.\n\n- The `SelectiveRegression` decision is a selective regression decision. In practice, it is a\n regression model with a threshold on the residual. If the residual is below the threshold,\nthe prediction is accepted, otherwise it is rejected. The threshold is the parameter to tune.\n- The `MSERisk` risk is the mean squared error risk. We want the mean squared error to be\ncontrolled at a given level (here 0.3, TODO: report the target performance instead of the target risk).\n- The `RatioPredictionRisk` risk is the ratio prediction risk. It is the ratio of accepted predictions.\nWe want the ratio of predictions to be controlled at a given level (here 0.2, TODO: report the\ntarget performance instead of the target risk).\n\nWe want to find the valid thresholds that control the risks at the given levels with a confidence level\n(here 0.9, TODO: report the confidence level instead of the delta).\n\nAmong the valid thresholds, we want to find the one that minimizes the mean squared error\n(beause it is the first risk in the list of risks and `control_method=\"lmin\"`).\n\n"
      ]
    },
    {
      "cell_type": "code",
      "execution_count": null,
      "metadata": {
        "collapsed": false
      },
      "outputs": [],
      "source": [
        "parameter_range = np.linspace(0.05, 5.0, 100)\n\ndecision: BaseDecision = SelectiveRegression(estimator=clf, residual=res)\nrisks: list[BaseRisk] = [MSERisk(0.6, mse_max=mse_max), RatioPredictionRisk(0.2)]\nparams: BaseParameterSpace = {\"threshold\": parameter_range}\n\nclf_mapie = MapieRiskControl(\n    decision=decision,\n    risks=risks,\n    params=params,\n    delta=0.1,\n    control_method=\"lmin\",\n)"
      ]
    },
    {
      "cell_type": "markdown",
      "metadata": {},
      "source": [
        "Now, we fit the model and plot the results. In practice, this function will be used to find the valid\nthresholds that control the risks at the given levels with a confidence level given by the data.\n\nA summary of the results is printed that contains the optimal threshold and the corresponding risks.\n\n"
      ]
    },
    {
      "cell_type": "code",
      "execution_count": null,
      "metadata": {
        "collapsed": false
      },
      "outputs": [],
      "source": [
        "clf_mapie.fit(X_cal, y_cal)\nclf_mapie.summary()"
      ]
    },
    {
      "cell_type": "markdown",
      "metadata": {},
      "source": [
        "We can plot the risk curves for each risk.\n\n"
      ]
    },
    {
      "cell_type": "code",
      "execution_count": null,
      "metadata": {
        "collapsed": false
      },
      "outputs": [],
      "source": [
        "plot_risk_curve(clf_mapie)"
      ]
    },
    {
      "cell_type": "markdown",
      "metadata": {},
      "source": [
        "We can also plot the p-values for each multiple tests (parameter space).\n\n"
      ]
    },
    {
      "cell_type": "code",
      "execution_count": null,
      "metadata": {
        "collapsed": false
      },
      "outputs": [],
      "source": [
        "plot_p_values(clf_mapie)"
      ]
    },
    {
      "cell_type": "markdown",
      "metadata": {},
      "source": [
        "Finally, we can use the optimal threshold to predict on the test set and compute the risks.\nThe risks are computed on the test set and converted to performance metrics.\nWe can check that the risks are controlled at the given levels.\n\n"
      ]
    },
    {
      "cell_type": "code",
      "execution_count": null,
      "metadata": {
        "collapsed": false
      },
      "outputs": [],
      "source": [
        "y_pred = clf_mapie.predict(X_test)\nfor risk in risks:\n    ratio = risk.convert_to_performance(np.nanmean(risk.compute(y_pred, y_test)))\n    print(f\"{risk.name}: {ratio:.2f}\")\n\nprint(MSERisk(mse_max)._compute_from_predictions(clf_mapie.predict(X_test), y_test))\nprint(MSERisk(mse_max)._compute_from_estimator(clf_mapie, X_test, y_test))"
      ]
    }
  ],
  "metadata": {
    "kernelspec": {
      "display_name": "Python 3",
      "language": "python",
      "name": "python3"
    },
    "language_info": {
      "codemirror_mode": {
        "name": "ipython",
        "version": 3
      },
      "file_extension": ".py",
      "mimetype": "text/x-python",
      "name": "python",
      "nbconvert_exporter": "python",
      "pygments_lexer": "ipython3",
      "version": "3.13.2"
    }
  },
  "nbformat": 4,
  "nbformat_minor": 0
}