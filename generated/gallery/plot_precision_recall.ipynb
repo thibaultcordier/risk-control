{
  "cells": [
    {
      "cell_type": "code",
      "execution_count": null,
      "metadata": {
        "collapsed": false
      },
      "outputs": [],
      "source": [
        "%matplotlib inline"
      ]
    },
    {
      "cell_type": "markdown",
      "metadata": {},
      "source": [
        "\n# Precision-Recall Trade-off for Binary Classification\n\nThis example shows how to use the `StandardClassification` and `RiskController`\nclasses to perform precision-recall trade-off for binary classification.\n"
      ]
    },
    {
      "cell_type": "code",
      "execution_count": null,
      "metadata": {
        "collapsed": false
      },
      "outputs": [],
      "source": [
        "import os\nimport sys\nimport warnings\n\nbasedir = os.path.abspath(os.path.join(os.path.curdir, \"..\"))\nsys.path.append(basedir)\nbasedir = os.path.abspath(os.path.join(os.path.curdir, \".\"))\nsys.path.append(basedir)\n\nimport numpy as np\nfrom risk_control import RiskController\nfrom risk_control.decision.base import BaseDecision\nfrom risk_control.decision.decision import BinaryDecision\nfrom risk_control.parameter import BaseParameterSpace\nfrom risk_control.plot import plot_p_values, plot_risk_curve\nfrom risk_control.risk import (\n    BaseRisk,\n    PrecisionRisk,\n    RecallRisk,\n)\n\nrandom_state = 42\nnp.random.seed(42)"
      ]
    },
    {
      "cell_type": "markdown",
      "metadata": {},
      "source": [
        "First, we load the data and train a model.\n\n"
      ]
    },
    {
      "cell_type": "code",
      "execution_count": null,
      "metadata": {
        "collapsed": false
      },
      "outputs": [],
      "source": [
        "from sklearn.datasets import make_classification\nfrom sklearn.ensemble import RandomForestClassifier\nfrom sklearn.linear_model import LogisticRegression\nfrom sklearn.model_selection import train_test_split\n\nX, y = make_classification(n_classes=2, n_samples=5000)\n\n# Flip randomly 10% of the labels\ny = np.where(\n    np.random.rand(y.shape[0]) < 0.1,\n    1 - y,\n    y,\n)\n\nX_train, X_test, y_train, y_test = train_test_split(\n    X, y, test_size=0.33, random_state=random_state\n)\nX_calib, X_test, y_calib, y_test = train_test_split(\n    X_test, y_test, test_size=0.5, random_state=random_state\n)\n\n# model = RandomForestClassifier\nwith warnings.catch_warnings(action=\"ignore\"):\n    model = LogisticRegression(\n        penalty=\"l1\", solver=\"liblinear\", random_state=random_state\n    )\n    model.fit(X_train, y_train)"
      ]
    },
    {
      "cell_type": "markdown",
      "metadata": {},
      "source": [
        "Here, we define the decision, the risks, and the parameter space.\n\n"
      ]
    },
    {
      "cell_type": "code",
      "execution_count": null,
      "metadata": {
        "collapsed": false
      },
      "outputs": [],
      "source": [
        "decision: BaseDecision = BinaryDecision(estimator=model)\nrisks: list[BaseRisk] = [PrecisionRisk(0.3), RecallRisk(0.3)]\nparams: BaseParameterSpace = {\"threshold\": np.linspace(-2.0, 2.0, 101)}\n\ncontroller = RiskController(\n    decision=decision,\n    risks=risks,\n    params=params,\n    delta=0.1,\n)"
      ]
    },
    {
      "cell_type": "markdown",
      "metadata": {},
      "source": [
        "Now, we fit the model and plot the results. In practice, this function will be used to find the valid\nthresholds that control the risks at the given levels with a confidence level given by the data.\n\nA summary of the results is printed that contains the optimal threshold and the corresponding risks.\n\n"
      ]
    },
    {
      "cell_type": "code",
      "execution_count": null,
      "metadata": {
        "collapsed": false
      },
      "outputs": [],
      "source": [
        "controller.fit(X_calib, y_calib)\ncontroller.summary()"
      ]
    },
    {
      "cell_type": "markdown",
      "metadata": {},
      "source": [
        "We can plot the risk curves for each risk.\n\n"
      ]
    },
    {
      "cell_type": "code",
      "execution_count": null,
      "metadata": {
        "collapsed": false
      },
      "outputs": [],
      "source": [
        "plot_risk_curve(controller)"
      ]
    },
    {
      "cell_type": "markdown",
      "metadata": {},
      "source": [
        "We can also plot the p-values for each multiple tests (parameter space).\n\n"
      ]
    },
    {
      "cell_type": "code",
      "execution_count": null,
      "metadata": {
        "collapsed": false
      },
      "outputs": [],
      "source": [
        "plot_p_values(controller)"
      ]
    },
    {
      "cell_type": "markdown",
      "metadata": {},
      "source": [
        "Finally, we can use the optimal threshold to predict on the test set and compute the risks.\nThe risks are computed on the test set and converted to performance metrics.\nWe can check that the risks are controlled at the given levels.\n\n"
      ]
    },
    {
      "cell_type": "code",
      "execution_count": null,
      "metadata": {
        "collapsed": false
      },
      "outputs": [],
      "source": [
        "from scipy.stats import norm\n\n\ndef confidence_interval(array, alpha=0.05):\n    n = len(array)\n    mean = np.mean(array)\n    var = np.var(array)\n    se = np.sqrt(var / n)\n    z = norm.ppf(1 - alpha / 2)\n    return mean - z * se, mean + z * se\n\n\ny_pred = controller.predict(X_test)\nfor risk in risks:\n    risk_array = risk.compute(y_pred, y_test)\n    ratio = risk.convert_to_performance(np.nanmean(risk_array))\n    risk_array = risk_array[~np.isnan(risk_array)]\n\n    score_ci = confidence_interval(risk_array, alpha=0.1)\n    smin = risk.convert_to_performance(score_ci[1])\n    smax = risk.convert_to_performance(score_ci[0])\n    print(f\"{risk.name}: {ratio:.2f} | {smin:.2f} - {smax:.2f} \")"
      ]
    }
  ],
  "metadata": {
    "kernelspec": {
      "display_name": "Python 3",
      "language": "python",
      "name": "python3"
    },
    "language_info": {
      "codemirror_mode": {
        "name": "ipython",
        "version": 3
      },
      "file_extension": ".py",
      "mimetype": "text/x-python",
      "name": "python",
      "nbconvert_exporter": "python",
      "pygments_lexer": "ipython3",
      "version": "3.13.2"
    }
  },
  "nbformat": 4,
  "nbformat_minor": 0
}