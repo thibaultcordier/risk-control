{
  "cells": [
    {
      "cell_type": "code",
      "execution_count": null,
      "metadata": {
        "collapsed": false
      },
      "outputs": [],
      "source": [
        "%matplotlib inline"
      ]
    },
    {
      "cell_type": "markdown",
      "metadata": {},
      "source": [
        "\n# Multi-Selective Classification\n\nThis example shows how to use the `MultiSelectiveClassification` and `RiskController` classes to perform multi-selective classification.\n"
      ]
    },
    {
      "cell_type": "code",
      "execution_count": null,
      "metadata": {
        "collapsed": false
      },
      "outputs": [],
      "source": [
        "import os\nimport sys\n\nfrom risk_control.decision.base import BaseDecision\nfrom risk_control.parameter import BaseParameterSpace\n\nbasedir = os.path.abspath(os.path.join(os.path.curdir, \"..\"))\nsys.path.append(basedir)\nbasedir = os.path.abspath(os.path.join(os.path.curdir, \".\"))\nsys.path.append(basedir)\n\nimport numpy as np\nfrom risk_control import RiskController\nfrom risk_control.decision import BestClassDecision, MultiLabelDecision\nfrom risk_control.plot import plot_p_values, plot_risk_curve\nfrom risk_control.risk import (\n    AbstentionRisk,\n    BaseRisk,\n    CoverageRisk,\n    FalseDiscoveryRisk,\n    NonUniqueCandidateRisk,\n)\nfrom utils.data import get_data_classification\nfrom utils.model import get_model_classification\n\nrandom_state = 42\nnp.random.seed(random_state)"
      ]
    },
    {
      "cell_type": "markdown",
      "metadata": {},
      "source": [
        "First, we load the data and train a model.\n\n"
      ]
    },
    {
      "cell_type": "code",
      "execution_count": null,
      "metadata": {
        "collapsed": false
      },
      "outputs": [],
      "source": [
        "X_train, X_cal, X_test, y_train, y_cal, y_test = get_data_classification(random_state)\nclf = get_model_classification(X_train, y_train)"
      ]
    },
    {
      "cell_type": "markdown",
      "metadata": {},
      "source": [
        "We can plot the data and the decision boundary.\n\n"
      ]
    },
    {
      "cell_type": "code",
      "execution_count": null,
      "metadata": {
        "collapsed": false
      },
      "outputs": [],
      "source": [
        "# plot_classification(X_train, y_train)"
      ]
    },
    {
      "cell_type": "markdown",
      "metadata": {},
      "source": [
        "Here, we define the decision, the risks, and the parameter space.\n\nWe use the `MultiSelectiveClassification` decision, the `AccuracyRisk`, `AbstentionRisk`\nand `CoverageRisk` risks.\n\n- The `MultiSelectiveClassification` decision is a selective classification decision. In practice, it is a\nclassification model with a threshold on any class confidence score. If the class confidence score is above\nthe threshold, the class is put in the prediction set, otherwise it is not. The threshold is the parameter to tune.\n- The `CoverageRisk` risk is the coverage risk. It is the ratio of predictions containing the true label.\nWe want the coverage to be controlled at a given level (here 0.5, TODO: report the target performance\ninstead of the target risk).\n- The `AbstentionRisk` risk is the ratio prediction risk. It is the ratio of accepted predictions.\nWe want the ratio of predictions to be controlled at a given level (here 0.3, TODO: report the\ntarget performance instead of the target risk).\n\nWe want to find the valid thresholds that control the risks at the given levels with a confidence level\n(here 0.9, TODO: report the confidence level instead of the delta).\n\nAmong the valid thresholds, we want to find the one that maximizes the `AccuracyRisk` risk\n(beause it is the first risk in the list of risks and `control_method=\"lmin\"`).\n\n"
      ]
    },
    {
      "cell_type": "code",
      "execution_count": null,
      "metadata": {
        "collapsed": false
      },
      "outputs": [],
      "source": [
        "decision: BaseDecision = MultiLabelDecision(estimator=clf)\n\nrisks: list[BaseRisk] = [\n    CoverageRisk(0.2),\n    FalseDiscoveryRisk(0.2),\n    NonUniqueCandidateRisk(0.4),\n]\nparams: BaseParameterSpace = {\"threshold\": np.arange(-1.0, 5.0, 0.1)}\n\ncontroller = RiskController(\n    decision=decision,\n    risks=risks,\n    params=params,\n    delta=0.1,\n    control_method=\"rmin\",\n)"
      ]
    },
    {
      "cell_type": "markdown",
      "metadata": {},
      "source": [
        "Now, we fit the model and plot the results. In practice, this function will be used to find the valid\nthresholds that control the risks at the given levels with a confidence level given by the data.\n\nA summary of the results is printed that contains the optimal threshold and the corresponding risks.\n\n"
      ]
    },
    {
      "cell_type": "code",
      "execution_count": null,
      "metadata": {
        "collapsed": false
      },
      "outputs": [],
      "source": [
        "controller.fit(X_cal, y_cal)\ncontroller.summary()"
      ]
    },
    {
      "cell_type": "markdown",
      "metadata": {},
      "source": [
        "We can plot the risk curves for each risk.\n\n"
      ]
    },
    {
      "cell_type": "code",
      "execution_count": null,
      "metadata": {
        "collapsed": false
      },
      "outputs": [],
      "source": [
        "plot_risk_curve(controller)"
      ]
    },
    {
      "cell_type": "markdown",
      "metadata": {},
      "source": [
        "We can also plot the p-values for each multiple tests (parameter space).\n\n"
      ]
    },
    {
      "cell_type": "code",
      "execution_count": null,
      "metadata": {
        "collapsed": false
      },
      "outputs": [],
      "source": [
        "plot_p_values(controller)"
      ]
    },
    {
      "cell_type": "markdown",
      "metadata": {},
      "source": [
        "Finally, we can use the optimal threshold to predict on the test set and compute the risks.\nThe risks are computed on the test set and converted to performance metrics.\nWe can check that the risks are controlled at the given levels.\n\n"
      ]
    },
    {
      "cell_type": "code",
      "execution_count": null,
      "metadata": {
        "collapsed": false
      },
      "outputs": [],
      "source": [
        "y_pred = controller.predict(X_test)\nfor risk in risks:\n    ratio = risk.convert_to_performance(np.nanmean(risk.compute(y_pred, y_test)))\n    print(f\"{risk.name}: {ratio:.2f}\")"
      ]
    }
  ],
  "metadata": {
    "kernelspec": {
      "display_name": "Python 3",
      "language": "python",
      "name": "python3"
    },
    "language_info": {
      "codemirror_mode": {
        "name": "ipython",
        "version": 3
      },
      "file_extension": ".py",
      "mimetype": "text/x-python",
      "name": "python",
      "nbconvert_exporter": "python",
      "pygments_lexer": "ipython3",
      "version": "3.13.2"
    }
  },
  "nbformat": 4,
  "nbformat_minor": 0
}